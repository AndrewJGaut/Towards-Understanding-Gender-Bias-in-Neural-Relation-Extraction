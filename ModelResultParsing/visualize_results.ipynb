{
 "cells": [
  {
   "cell_type": "code",
   "execution_count": 1,
   "metadata": {},
   "outputs": [],
   "source": [
    "import json\n",
    "import ast\n",
    "import os"
   ]
  },
  {
   "cell_type": "code",
   "execution_count": 2,
   "metadata": {},
   "outputs": [],
   "source": [
    "relations = ['birthdate', 'birthplace', 'spouse', 'hypernym']"
   ]
  },
  {
   "cell_type": "code",
   "execution_count": 53,
   "metadata": {},
   "outputs": [],
   "source": [
    "def print_relation_metric(metric, results_dict):\n",
    "    for relation in relations:\n",
    "        print(results_dict[relation][metric])"
   ]
  },
  {
   "cell_type": "code",
   "execution_count": 48,
   "metadata": {
    "scrolled": false
   },
   "outputs": [],
   "source": [
    "directory = './test_results/'\n",
    "\n",
    "for filename in sorted(os.listdir(directory)):\n",
    "#     if os.path.isfile(os.path.join(directory, filename)):\n",
    "#         print(os.path.join(directory, filename))\n",
    "#     if filename.endswith(\".json\") and filename.find('_NoEq_') > -1: \n",
    "    if filename.endswith(\".json\"):\n",
    "        model = filename[21:-10]\n",
    "        with open(directory + filename, 'r') as myfile:\n",
    "            results = myfile.read()\n",
    "            print(filename)\n",
    "            results_dict = ast.literal_eval(results)\n",
    "            print_relation_metric('f1_score') # in order of relations: ['birthdate', 'birthplace', 'spouse', 'hypernym']\n",
    "            print('---\\n')\n",
    "        continue\n",
    "    else:\n",
    "        continue"
   ]
  },
  {
   "cell_type": "code",
   "execution_count": null,
   "metadata": {},
   "outputs": [],
   "source": []
  },
  {
   "cell_type": "code",
   "execution_count": null,
   "metadata": {},
   "outputs": [],
   "source": []
  },
  {
   "cell_type": "code",
   "execution_count": null,
   "metadata": {},
   "outputs": [],
   "source": []
  },
  {
   "cell_type": "code",
   "execution_count": null,
   "metadata": {},
   "outputs": [],
   "source": []
  },
  {
   "cell_type": "code",
   "execution_count": 47,
   "metadata": {
    "scrolled": false
   },
   "outputs": [],
   "source": [
    "directory_differences = './gender_differences_results/'\n",
    "\n",
    "for filename in sorted(os.listdir(directory_differences)):\n",
    "#     if filename.endswith(\".json\") and filename.find('_NoEq_') > -1: \n",
    "    if filename.endswith(\".json\"):\n",
    "        print(filename)\n",
    "        model = filename[21:-10]\n",
    "#         print(model)\n",
    "        with open(directory_differences + filename, 'r') as myfile:\n",
    "            results = myfile.read()\n",
    "            results_dict = ast.literal_eval(results)\n",
    "#             print(results_dict)\n",
    "            print_relation_metric('f1_score') # in order of relations: ['birthdate', 'birthplace', 'spouse', 'hypernym']\n",
    "            print('---\\n')\n",
    "        continue\n",
    "    else:\n",
    "        continue"
   ]
  },
  {
   "cell_type": "code",
   "execution_count": null,
   "metadata": {},
   "outputs": [],
   "source": []
  },
  {
   "cell_type": "code",
   "execution_count": 3,
   "metadata": {},
   "outputs": [],
   "source": [
    "def print_moment_metric(moment, metric, results_dict):\n",
    "    for relation in relations:\n",
    "        print(results_dict[moment][relation][metric])"
   ]
  },
  {
   "cell_type": "code",
   "execution_count": 15,
   "metadata": {
    "scrolled": false
   },
   "outputs": [
    {
     "name": "stdout",
     "output_type": "stream",
     "text": [
      "Wikigender_pcnn_att_DE\n",
      "0.004388450365051752\n",
      "0.007671338556283517\n",
      "0.005439513755805943\n",
      "0.0072421172498477\n",
      "---\n",
      "\n",
      "Wikigender_pcnn_att_NoDE\n",
      "0.008702753677171264\n",
      "0.007638032665726961\n",
      "0.00799854888993005\n",
      "0.007289103357815232\n",
      "---\n",
      "\n",
      "Wikigender_pcnn_att__NA_Eq_GS_NoNS_bootstrapped_DE\n",
      "0.015035935659591394\n",
      "0.009805790457294437\n",
      "0.03153599146730274\n",
      "0.017697409336963607\n",
      "---\n",
      "\n",
      "Wikigender_pcnn_att__NA_Eq_GS_NoNS_bootstrapped_NoDE\n",
      "0.018536176121902715\n",
      "0.022009709381052785\n",
      "0.014604587833623759\n",
      "0.03604669436271312\n",
      "---\n",
      "\n",
      "Wikigender_pcnn_att__NA_Eq_NoGS_bootstrapped_DE\n",
      "0.00911937877810354\n",
      "0.015550975603306129\n",
      "0.006002675332827945\n",
      "0.013864331799411996\n",
      "---\n",
      "\n",
      "Wikigender_pcnn_att__NA_Eq_NoGS_bootstrapped_NoDE\n",
      "0.025215873214571576\n",
      "0.007558608128734916\n",
      "0.014218802854373764\n",
      "0.031761868304992606\n",
      "---\n",
      "\n",
      "Wikigender_pcnn_att__NA_NoEq_GS_NoNS_bootstrapped_DE\n",
      "0.007690230520786137\n",
      "0.01109513053195083\n",
      "0.032357472722263546\n",
      "0.013773554053352123\n",
      "---\n",
      "\n",
      "Wikigender_pcnn_att__NA_NoEq_GS_NoNS_bootstrapped_NoDE\n",
      "0.009896224435269697\n",
      "0.0155619594727102\n",
      "0.008806162798409366\n",
      "0.03637283701555986\n",
      "---\n",
      "\n",
      "Wikigender_pcnn_att__NA_NoEq_NoGS_bootstrapped_DE\n",
      "0.011509502341481053\n",
      "0.010226736648620777\n",
      "0.01070597148474042\n",
      "0.01452047434052195\n",
      "---\n",
      "\n",
      "Wikigender_pcnn_att__NA_NoEq_NoGS_bootstrapped_NoDE\n",
      "0.051721013254866124\n",
      "0.03716133283714373\n",
      "0.06057124036938876\n",
      "0.02659263231232349\n",
      "---\n",
      "\n",
      "Wikigender_pcnn_att__NoNA_Eq_GS_NoNS_bootstrapped_DE\n",
      "0.010971699828231218\n",
      "0.014190351772126058\n",
      "0.032467352918709\n",
      "0.009634148704184432\n",
      "---\n",
      "\n",
      "Wikigender_pcnn_att__NoNA_Eq_GS_NoNS_bootstrapped_NoDE\n",
      "0.018844720601116464\n",
      "0.015573304920531831\n",
      "0.031184912232943517\n",
      "0.020282874707120722\n",
      "---\n",
      "\n",
      "Wikigender_pcnn_att__NoNA_Eq_NoGS_bootstrapped_DE\n",
      "0.015264100306032922\n",
      "0.016107464322793887\n",
      "0.043096230615037576\n",
      "0.016687561236302224\n",
      "---\n",
      "\n",
      "Wikigender_pcnn_att__NoNA_Eq_NoGS_bootstrapped_NoDE\n",
      "0.03993820103727459\n",
      "0.0172050622520762\n",
      "0.05106253158418823\n",
      "0.021609228985014585\n",
      "---\n",
      "\n",
      "Wikigender_pcnn_att__NoNA_NoEq_GS_NoNS_bootstrapped_DE\n",
      "0.0068218951157884\n",
      "0.00918890065739296\n",
      "0.004309556242047044\n",
      "0.008363481699270486\n",
      "---\n",
      "\n",
      "Wikigender_pcnn_att__NoNA_NoEq_GS_NoNS_bootstrapped_NoDE\n",
      "0.010843022865781867\n",
      "0.01468744874026684\n",
      "0.016169544706671472\n",
      "0.057873633385184545\n",
      "---\n",
      "\n",
      "16\n"
     ]
    }
   ],
   "source": [
    "# directory = './test_results/'\n",
    "directory = './bootstrapped_parsed_results/'\n",
    "\n",
    "i = 0\n",
    "\n",
    "for model_folder in sorted(os.listdir(directory)):\n",
    "#     if not model_folder.endswith(\".json\"):\n",
    "    if not model_folder.endswith(\".json\") and model_folder.find('pcnn') > -1 \\\n",
    "        and model_folder.find('att') > -1:\n",
    "#     and model_folder.find('_Eq') > -1:\n",
    "        for filename in sorted(os.listdir(directory + model_folder)):\n",
    "#             if os.path.isfile(os.path.join(directory, filename)):\n",
    "#                 print(os.path.join(directory + model_folder, filename))\n",
    "#             print(filename)\n",
    "#             if filename.endswith(\".json\"): \n",
    "#             if filename.endswith(\".json\") and not filename.find('male') > -1:\n",
    "            if filename == 'gender_diffs.json':\n",
    "                model = filename[21:-10]\n",
    "                with open(directory + model_folder + '/' + filename, 'r') as myfile:\n",
    "                    i += 1\n",
    "                    results = myfile.read()\n",
    "                    print(model_folder)\n",
    "#                     print(filename)\n",
    "                    results_dict = ast.literal_eval(results)\n",
    "                    print_moment_metric('stddevs', 'f1_score', results_dict)\n",
    "                    # in order of relations: ['birthdate', 'birthplace', 'spouse', 'hypernym']\n",
    "                    print('---\\n')\n",
    "                continue\n",
    "            else:\n",
    "                continue\n",
    "\n",
    "print(i)"
   ]
  },
  {
   "cell_type": "code",
   "execution_count": null,
   "metadata": {},
   "outputs": [],
   "source": []
  },
  {
   "cell_type": "code",
   "execution_count": null,
   "metadata": {},
   "outputs": [],
   "source": []
  },
  {
   "cell_type": "code",
   "execution_count": null,
   "metadata": {},
   "outputs": [],
   "source": [
    "def aggregate_relation_metric(metric, results_dict):\n",
    "    for relation in relations:\n",
    "        results_dict[relation][metric]"
   ]
  },
  {
   "cell_type": "code",
   "execution_count": 12,
   "metadata": {
    "scrolled": false
   },
   "outputs": [],
   "source": [
    "# directory = './test_results/'\n",
    "directory = './bootstrapped_test_results/'\n",
    "\n",
    "i = 0\n",
    "\n",
    "for filename in sorted(os.listdir(directory)):\n",
    "#             if os.path.isfile(os.path.join(directory, filename)):\n",
    "#                 print(os.path.join(directory + model_folder, filename))\n",
    "#             print(filename)\n",
    "#             if filename.endswith(\".json\"): \n",
    "#             if filename.endswith(\".json\") and not filename.find('male') > -1:\n",
    "        if filename.find('Wikigender_pcnn_att__NoNA_Eq_NoGS_bootstrapped_NoDE') > -1:\n",
    "            model = filename[21:-10]\n",
    "            with open(directory + filename, 'r') as myfile:\n",
    "                i += 1\n",
    "                results = myfile.read()\n",
    "                print(model_folder)\n",
    "#                     print(filename)\n",
    "                results_dict = ast.literal_eval(results)\n",
    "                print_relation_metric('f1_score', results_dict)\n",
    "                # in order of relations: ['birthdate', 'birthplace', 'spouse', 'hypernym']\n",
    "                print('---\\n')\n",
    "            continue\n",
    "        else:\n",
    "            continue\n",
    "\n",
    "print(i)"
   ]
  }
 ],
 "metadata": {
  "kernelspec": {
   "display_name": "Python 3",
   "language": "python",
   "name": "python3"
  },
  "language_info": {
   "codemirror_mode": {
    "name": "ipython",
    "version": 3
   },
   "file_extension": ".py",
   "mimetype": "text/x-python",
   "name": "python",
   "nbconvert_exporter": "python",
   "pygments_lexer": "ipython3",
   "version": "3.7.4"
  }
 },
 "nbformat": 4,
 "nbformat_minor": 2
}
